{
 "cells": [
  {
   "cell_type": "code",
   "execution_count": 1,
   "metadata": {},
   "outputs": [
    {
     "name": "stdout",
     "output_type": "stream",
     "text": [
      "[' The hobo is delighted to see you again. He is intrigued to learn of your journey thus far. ', '\\nYou are feeling peckish.', '\\nYou are moderately nasty.']\n",
      "Hobo is delighted to received your gift and promises to return the favour in the future\n",
      "You waved goodbye with your little paws.\n",
      "Hobo looks forward to meeting you again.\n",
      "Hobo is delighted to received your gift and promises to return the favour in the future\n",
      "You waved goodbye with your little paws.\n",
      "Hobo looks forward to meeting you again.\n"
     ]
    },
    {
     "ename": "TypeError",
     "evalue": "cannot unpack non-iterable NoneType object",
     "output_type": "error",
     "traceback": [
      "\u001b[0;31m---------------------------------------------------------------------------\u001b[0m",
      "\u001b[0;31mTypeError\u001b[0m                                 Traceback (most recent call last)",
      "\u001b[1;32m/home/wata/Desktop/school/CTD_10.014/1D Project/ratata-game/src/main.ipynb Cell 1\u001b[0m line \u001b[0;36m8\n\u001b[1;32m      <a href='vscode-notebook-cell:/home/wata/Desktop/school/CTD_10.014/1D%20Project/ratata-game/src/main.ipynb#W3sZmlsZQ%3D%3D?line=4'>5</a>\u001b[0m rat \u001b[39m=\u001b[39m Rat()\n\u001b[1;32m      <a href='vscode-notebook-cell:/home/wata/Desktop/school/CTD_10.014/1D%20Project/ratata-game/src/main.ipynb#W3sZmlsZQ%3D%3D?line=6'>7</a>\u001b[0m \u001b[39mfor\u001b[39;00m _ \u001b[39min\u001b[39;00m \u001b[39mrange\u001b[39m(\u001b[39m3\u001b[39m):\n\u001b[0;32m----> <a href='vscode-notebook-cell:/home/wata/Desktop/school/CTD_10.014/1D%20Project/ratata-game/src/main.ipynb#W3sZmlsZQ%3D%3D?line=7'>8</a>\u001b[0m     dialogues, options, functions \u001b[39m=\u001b[39m event(rat)\n\u001b[1;32m      <a href='vscode-notebook-cell:/home/wata/Desktop/school/CTD_10.014/1D%20Project/ratata-game/src/main.ipynb#W3sZmlsZQ%3D%3D?line=8'>9</a>\u001b[0m     \u001b[39mfor\u001b[39;00m function \u001b[39min\u001b[39;00m functions:\n\u001b[1;32m     <a href='vscode-notebook-cell:/home/wata/Desktop/school/CTD_10.014/1D%20Project/ratata-game/src/main.ipynb#W3sZmlsZQ%3D%3D?line=9'>10</a>\u001b[0m         \u001b[39m# print(function)\u001b[39;00m\n\u001b[1;32m     <a href='vscode-notebook-cell:/home/wata/Desktop/school/CTD_10.014/1D%20Project/ratata-game/src/main.ipynb#W3sZmlsZQ%3D%3D?line=10'>11</a>\u001b[0m         rat \u001b[39m=\u001b[39m function(rat)\n",
      "File \u001b[0;32m~/Desktop/school/CTD_10.014/1D Project/ratata-game/src/RatRandomiser.py:20\u001b[0m, in \u001b[0;36mevent\u001b[0;34m(rat)\u001b[0m\n\u001b[1;32m     18\u001b[0m     dialog,options,option_func \u001b[39m=\u001b[39m filth_event(rat)\n\u001b[1;32m     19\u001b[0m \u001b[39melse\u001b[39;00m:\n\u001b[0;32m---> 20\u001b[0m     dialog,options,option_func \u001b[39m=\u001b[39m other_event(rat)\n\u001b[1;32m     21\u001b[0m dialog\u001b[39m.\u001b[39mappend(hunger_trigger(rat))\n\u001b[1;32m     22\u001b[0m dialog\u001b[39m.\u001b[39mappend(filth_trigger(rat))\n",
      "\u001b[0;31mTypeError\u001b[0m: cannot unpack non-iterable NoneType object"
     ]
    }
   ],
   "source": [
    "###----- NOTE: Before running this file, do restart the kernel ----###\n",
    "###----- Go change the event chances in RatRandomiser.py ----------###\n",
    "from RatRandomiser import event\n",
    "from Ratata import Rat\n",
    "\n",
    "rat = Rat()\n",
    "\n",
    "for _ in range(3):\n",
    "    dialogues, options, functions = event(rat) \n",
    "    for function in functions:\n",
    "        # print(function)\n",
    "        rat = function(rat)\n",
    "        # print(vars(rat))"
   ]
  },
  {
   "cell_type": "code",
   "execution_count": null,
   "metadata": {},
   "outputs": [],
   "source": []
  }
 ],
 "metadata": {
  "kernelspec": {
   "display_name": "ctd",
   "language": "python",
   "name": "python3"
  },
  "language_info": {
   "codemirror_mode": {
    "name": "ipython",
    "version": 3
   },
   "file_extension": ".py",
   "mimetype": "text/x-python",
   "name": "python",
   "nbconvert_exporter": "python",
   "pygments_lexer": "ipython3",
   "version": "3.12.0"
  }
 },
 "nbformat": 4,
 "nbformat_minor": 2
}
