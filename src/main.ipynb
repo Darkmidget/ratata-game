{
 "cells": [
  {
   "cell_type": "code",
   "execution_count": 3,
   "metadata": {},
   "outputs": [],
   "source": [
    "import random\n",
    "import Toad\n",
    "from Ratata import Rat\n",
    "\n",
    "\n",
    "rat = Rat()\n",
    "'''\n",
    "def choose_event():\n",
    "    return (event(rat),event(rat),event(rat),event(rat))\n",
    "'''\n",
    "def event(rat):\n",
    "    filth_chance = 0 \n",
    "    n = random.random()\n",
    "    if n <= filth_chance:\n",
    "        return filth_event(rat)\n",
    "    else:\n",
    "        return other_event(rat)\n",
    "\n",
    "'''        \n",
    "def action():\n",
    "    response = input(\"Select an Action : (1)Wash (2)Eat (3)Find Food (4)Skip\")\n",
    "    if response == '1':\n",
    "        pass # reduce filth\n",
    "    elif response == '2':\n",
    "        pass # eat function\n",
    "    elif response == '3':\n",
    "        food_event()\n",
    "    elif response == '4':\n",
    "        event()\n",
    "    else:\n",
    "        print(\"Invalid Input. Please try again\")\n",
    "        action()\n",
    "'''\n",
    "\n",
    "def filth_event(rat):\n",
    "    cat_chance = 0.1\n",
    "    hobo_chance = 0.15\n",
    "    n = random.random()\n",
    "    if n <= cat_chance:\n",
    "        pass #cat event\n",
    "    elif n <= cat_chance + hobo_chance:\n",
    "        pass #hobo event\n",
    "    else:\n",
    "        pass #rat event\n",
    "    \n",
    "def food_event(rat):\n",
    "    free_food_chance = 0.45\n",
    "    steal_food_chance = 0.3\n",
    "    n = random.random()\n",
    "    if n <= free_food_chance:\n",
    "        pass #food event\n",
    "    elif n <= free_food_chance + steal_food_chance:\n",
    "        pass #steal food\n",
    "    else:\n",
    "        pass #no food\n",
    "\n",
    "def other_event(rat):\n",
    "    n = random.random()\n",
    "\n",
    "    toad = Toad.Toad\n",
    "    if n >= 0.0:\n",
    "        return toad.shop(toad,rat)"
   ]
  },
  {
   "cell_type": "code",
   "execution_count": 4,
   "metadata": {},
   "outputs": [
    {
     "name": "stdout",
     "output_type": "stream",
     "text": [
      "{'health': 100, 'filth': 50, 'size': 1, 'hunger': 70, 'rat_gang': [], 'belongings': {'cheese': 3}}\n",
      "{'health': 100, 'filth': 50, 'size': 1, 'hunger': 70, 'rat_gang': ['rat slave'], 'belongings': {'cheese': 1}}\n"
     ]
    }
   ],
   "source": [
    "rat = Rat()\n",
    "d,o,f = event(rat)\n",
    "print(vars(rat))\n",
    "f[1](rat)\n",
    "print(vars(rat))"
   ]
  },
  {
   "cell_type": "code",
   "execution_count": 11,
   "metadata": {},
   "outputs": [
    {
     "name": "stdout",
     "output_type": "stream",
     "text": [
      "0\n",
      "0\n",
      "1\n",
      "0\n",
      "1\n",
      "2\n",
      "0\n",
      "1\n",
      "2\n",
      "3\n"
     ]
    }
   ],
   "source": [
    "functions = []\n",
    "for x in range(4):\n",
    "    # print(x)\n",
    "    functions.append(lambda i, real_x =x: i+real_x)\n",
    "\n",
    "    for function in functions:\n",
    "        print(function(0))\n"
   ]
  },
  {
   "cell_type": "code",
   "execution_count": 14,
   "metadata": {},
   "outputs": [],
   "source": [
    "def func(a,b,c=10):\n",
    "    print(a+b+c)"
   ]
  },
  {
   "cell_type": "code",
   "execution_count": 16,
   "metadata": {},
   "outputs": [
    {
     "name": "stdout",
     "output_type": "stream",
     "text": [
      "13\n"
     ]
    }
   ],
   "source": [
    "func(1,2)"
   ]
  },
  {
   "cell_type": "code",
   "execution_count": null,
   "metadata": {},
   "outputs": [],
   "source": []
  }
 ],
 "metadata": {
  "kernelspec": {
   "display_name": "ctd",
   "language": "python",
   "name": "python3"
  },
  "language_info": {
   "codemirror_mode": {
    "name": "ipython",
    "version": 3
   },
   "file_extension": ".py",
   "mimetype": "text/x-python",
   "name": "python",
   "nbconvert_exporter": "python",
   "pygments_lexer": "ipython3",
   "version": "3.12.0"
  }
 },
 "nbformat": 4,
 "nbformat_minor": 2
}
