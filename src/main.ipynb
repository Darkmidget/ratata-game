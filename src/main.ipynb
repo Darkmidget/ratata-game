{
 "cells": [
  {
   "cell_type": "code",
   "execution_count": null,
   "metadata": {},
   "outputs": [],
   "source": [
    "from dialogue import interact_handler \n",
    "from Ratata import Rat \n",
    "from time import sleep \n",
    "import time \n",
    " \n",
    "class Hobo(): \n",
    "    def __init__(self): \n",
    "        self.encounter = 1 \n",
    "        self.cheese = 1 \n",
    "         \n",
    "    def hobo_encounter(self,r): \n",
    "        self.encounter+=1 \n",
    "        return self.hobo_interact(r) \n",
    "        #if self.cheese > 8 \n",
    "         \n",
    "        # encounter logic and also cheese logic \n",
    "        #return rat dialogue, options \n",
    "        # take in rat object and change its stats and return the rat to qx \n",
    "        # return dialog,player/rat, options \n",
    "        # maybe we should implement storyline where the rat interacts with the hobo idk  \n",
    "        # make sure hobo hints that he can just come back next time to deliver many cheese \n",
    "    def hobo_interact(self,r): \n",
    "        # Functions to do what you will do to the rat/hobo \n",
    "        def hobo_take(self,r): #take cheese from hobo \n",
    "            r.belongings[\"cheese\"] += 1 \n",
    "            self.cheese -= 1 \n",
    "            print(\"Hobo:I will get going now. Have fun exploring and stay safe from those pesky cats.\") \n",
    "            return r\n",
    "         \n",
    "        def hobo_eat(r):#eat cheese from hobo \n",
    "            eatcheese(r) \n",
    "            print(\"you have eaten the cheese and thank him byebye\") \n",
    "            return r  \n",
    "         \n",
    "        def hobo_leave(self,r): #decline/leave \n",
    "            if self.encounter == 1:  \n",
    "                print(\"You thanked the hobo for his kind gesture but declined his cheese.\") \n",
    "                time.sleep(.5) \n",
    "                print(\"Hobo was dissapointed, waves goodbye and left to explore the sewers.\") \n",
    "            if self.encounter != 1: \n",
    "                print(\"You waved goodbye with your little paws.\") \n",
    "                time.sleep(.5) \n",
    "                print(\"Hobo looks forward to meeting you again.\") \n",
    "            return r  \n",
    "         \n",
    "        def hobo_give(self,r): #rat give cheese \n",
    "            if r.belongings[\"cheese\"]>=1: \n",
    "                r.belongings[\"cheese\"] -= 1 \n",
    "                self.cheese += 1 \n",
    "                if self.cheese >= 1: \n",
    "                    print(\"Hobo is delighted to received your gift and promises to return the favour in the future\") \n",
    "                elif self.cheese == 4: \n",
    "                    print(\"Hobo is  thankful for your past gifts and handed you a strong Health Potion. Your hp increased and stuff\") \n",
    "                    r.health += 20 \n",
    "                elif self.cheese >4: \n",
    "                    print(\"Hobo  accepted your gift and left...\") \n",
    "                elif self.cheese == 6: \n",
    "                    print(\"Excited hobo gives u golden cheese lmao\") \n",
    "                return r \n",
    "            else:\n",
    "                print(\"As you have no cheese, Hobo expressed his dissapointment and left.\") \n",
    "                return r\n",
    "        def hobo_share(self,r): \n",
    "            if r.rat_gang >= 1: \n",
    "                print(\"You shared your story on how you gather your gang rat members.\") \n",
    "                time.sleep(0.5) \n",
    "                print(\"Hobo thanked you for the story and left to explore the sewers.\") \n",
    "            # if ( new implementation that can share) \n",
    " \n",
    "            return r \n",
    "       \n",
    "        if self.encounter == 1: \n",
    "            dialogue = [\"Hobo: Oh hello! This is the first time I have seen you around./n Do\"] \n",
    "            options = [\"1. Take cheese \", \"2. Eat cheese\", \"3. Decline\"]  \n",
    "            return dialogue,options, [hobo_take,hobo_eat,hobo_leave] \n",
    "        elif self.encounter > 1 and self.encounter < 5: \n",
    "            dialogue = [' The hobo is delighted to see you again. He is intrigued to learn of your journey thus far. '] \n",
    "            options = [\"1. Give cheese\", \"2. Share more on your story\", \"3. Leave\"] \n",
    "            return dialogue,options,[hobo_give,hobo_share,hobo_leave]  \n",
    "        #elif self.encounter >= 5:  \n",
    "           # dialogue = [ ''] \n",
    "     \n",
    "def eatcheese(r): \n",
    "    r.hunger += 10 \n",
    "    return(r) "
   ]
  },
  {
   "cell_type": "code",
   "execution_count": null,
   "metadata": {},
   "outputs": [],
   "source": [
    "rat = Rat()\n",
    "hobo = Hobo()\n",
    "d,o,f = hobo.hobo_encounter(rat)\n",
    "print(vars(rat))\n",
    "for i in f:\n",
    "    print(type(i()))\n",
    "# f[1](rat)\n",
    "print(vars(rat))"
   ]
  },
  {
   "cell_type": "code",
   "execution_count": 1,
   "metadata": {},
   "outputs": [
    {
     "name": "stdout",
     "output_type": "stream",
     "text": [
      "<function Hobo.hobo_interact.<locals>.hobo_share at 0x7f76c11527a0>\n",
      "<Ratata.Rat object at 0x7f76c10df1d0>\n"
     ]
    }
   ],
   "source": [
    "from Hobo import Hobo\n",
    "from Ratata import Rat\n",
    "\n",
    "hobo = Hobo()\n",
    "rat = Rat()\n",
    "f = hobo.hobo_interact(rat)[2][1]\n",
    "print(f)\n",
    "print(f(rat))\n",
    "\n",
    "## Issues: share, \n"
   ]
  },
  {
   "cell_type": "code",
   "execution_count": null,
   "metadata": {},
   "outputs": [],
   "source": [
    "from Toad import Toad\n",
    "\n",
    "toad = Toad()\n",
    "rat = Rat()\n",
    "f = toad.shop(rat)[2][0]\n",
    "print(f(rat))"
   ]
  },
  {
   "cell_type": "code",
   "execution_count": null,
   "metadata": {},
   "outputs": [],
   "source": []
  }
 ],
 "metadata": {
  "kernelspec": {
   "display_name": "ctd",
   "language": "python",
   "name": "python3"
  },
  "language_info": {
   "codemirror_mode": {
    "name": "ipython",
    "version": 3
   },
   "file_extension": ".py",
   "mimetype": "text/x-python",
   "name": "python",
   "nbconvert_exporter": "python",
   "pygments_lexer": "ipython3",
   "version": "3.12.0"
  }
 },
 "nbformat": 4,
 "nbformat_minor": 2
}
